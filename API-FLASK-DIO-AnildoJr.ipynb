{
  "nbformat": 4,
  "nbformat_minor": 0,
  "metadata": {
    "colab": {
      "provenance": [],
      "authorship_tag": "ABX9TyPNZQP53WeBOkdeqkzoWJhP",
      "include_colab_link": true
    },
    "kernelspec": {
      "name": "python3",
      "display_name": "Python 3"
    },
    "language_info": {
      "name": "python"
    }
  },
  "cells": [
    {
      "cell_type": "markdown",
      "metadata": {
        "id": "view-in-github",
        "colab_type": "text"
      },
      "source": [
        "<a href=\"https://colab.research.google.com/github/Anildojr10/API-FLASK-DIO-AnildoJr/blob/main/API-FLASK-DIO-AnildoJr.ipynb\" target=\"_parent\"><img src=\"https://colab.research.google.com/assets/colab-badge.svg\" alt=\"Open In Colab\"/></a>"
      ]
    },
    {
      "cell_type": "code",
      "source": [
        "!pip install pyngrok\n",
        "!pip install pyngrok==5.0.2"
      ],
      "metadata": {
        "colab": {
          "base_uri": "https://localhost:8080/"
        },
        "id": "ciCg6mU4NSq2",
        "outputId": "f5d3a4ec-ef71-416d-b8cb-533fbe7b3bb6"
      },
      "execution_count": 1,
      "outputs": [
        {
          "output_type": "stream",
          "name": "stdout",
          "text": [
            "Requirement already satisfied: pyngrok in /usr/local/lib/python3.10/dist-packages (7.0.0)\n",
            "Requirement already satisfied: PyYAML in /usr/local/lib/python3.10/dist-packages (from pyngrok) (6.0.1)\n",
            "Collecting pyngrok==5.0.2\n",
            "  Downloading pyngrok-5.0.2.tar.gz (731 kB)\n",
            "\u001b[2K     \u001b[90m━━━━━━━━━━━━━━━━━━━━━━━━━━━━━━━━━━━━━━━━\u001b[0m \u001b[32m731.4/731.4 kB\u001b[0m \u001b[31m6.0 MB/s\u001b[0m eta \u001b[36m0:00:00\u001b[0m\n",
            "\u001b[?25h  Preparing metadata (setup.py) ... \u001b[?25l\u001b[?25hdone\n",
            "Requirement already satisfied: PyYAML in /usr/local/lib/python3.10/dist-packages (from pyngrok==5.0.2) (6.0.1)\n",
            "Building wheels for collected packages: pyngrok\n",
            "  Building wheel for pyngrok (setup.py) ... \u001b[?25l\u001b[?25hdone\n",
            "  Created wheel for pyngrok: filename=pyngrok-5.0.2-py3-none-any.whl size=18965 sha256=bb39f8696dc9a31ce42ca35726f8e52234354ab6e82f86bbcbc9c99e42243cc4\n",
            "  Stored in directory: /root/.cache/pip/wheels/bb/3c/43/72fa1ade6feb2a3ac647d75d213603f9c6992eb3052b84b1f6\n",
            "Successfully built pyngrok\n",
            "Installing collected packages: pyngrok\n",
            "  Attempting uninstall: pyngrok\n",
            "    Found existing installation: pyngrok 7.0.0\n",
            "    Uninstalling pyngrok-7.0.0:\n",
            "      Successfully uninstalled pyngrok-7.0.0\n",
            "Successfully installed pyngrok-5.0.2\n"
          ]
        }
      ]
    },
    {
      "cell_type": "code",
      "source": [
        "from flask import Flask, jsonify\n",
        "import random\n",
        "\n",
        "app = Flask(__name__)\n",
        "\n",
        "# Dados fictícios\n",
        "data = [\n",
        "    {\n",
        "        \"Number\": 1,\n",
        "        \"Name\": \"Alice\",\n",
        "        \"Age\": 28,\n",
        "        \"City\": \"New York\",\n",
        "        \"Country\": \"USA\"\n",
        "    },\n",
        "    {\n",
        "        \"Number\": 2,\n",
        "        \"Name\": \"Bob\",\n",
        "        \"Age\": 35,\n",
        "        \"City\": \"Los Angeles\",\n",
        "        \"Country\": \"USA\"\n",
        "    },\n",
        "    {\n",
        "        \"Number\": 3,\n",
        "        \"Name\": \"Charlie\",\n",
        "        \"Age\": 22,\n",
        "        \"City\": \"London\",\n",
        "        \"Country\": \"UK\"\n",
        "    },\n",
        "    {\n",
        "        \"Number\": 4,\n",
        "        \"Name\": \"David\",\n",
        "        \"Age\": 29,\n",
        "        \"City\": \"Toronto\",\n",
        "        \"Country\": \"Canada\"\n",
        "    },\n",
        "    {\n",
        "        \"Number\": 5,\n",
        "        \"Name\": \"Eve\",\n",
        "        \"Age\": 24,\n",
        "        \"City\": \"Sydney\",\n",
        "        \"Country\": \"Australia\"\n",
        "    }\n",
        "]\n",
        "\n",
        "@app.route('/index', methods=['GET'])\n",
        "def get_data():\n",
        "    return jsonify(data)\n",
        "\n",
        "if __name__ == '__main__':\n",
        "    app.run(host='0.0.0.0', port=5000)\n"
      ],
      "metadata": {
        "colab": {
          "base_uri": "https://localhost:8080/"
        },
        "id": "FINYbOJZO3-s",
        "outputId": "dfeff900-0bf4-46ab-a403-8bc10dbac13f"
      },
      "execution_count": null,
      "outputs": [
        {
          "metadata": {
            "tags": null
          },
          "name": "stdout",
          "output_type": "stream",
          "text": [
            " * Serving Flask app '__main__'\n",
            " * Debug mode: off\n"
          ]
        },
        {
          "metadata": {
            "tags": null
          },
          "name": "stderr",
          "output_type": "stream",
          "text": [
            "INFO:werkzeug:\u001b[31m\u001b[1mWARNING: This is a development server. Do not use it in a production deployment. Use a production WSGI server instead.\u001b[0m\n",
            " * Running on all addresses (0.0.0.0)\n",
            " * Running on http://127.0.0.1:5000\n",
            " * Running on http://172.28.0.12:5000\n",
            "INFO:werkzeug:\u001b[33mPress CTRL+C to quit\u001b[0m\n"
          ]
        }
      ]
    }
  ]
}